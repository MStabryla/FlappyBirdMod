{
 "cells": [
  {
   "cell_type": "markdown",
   "metadata": {},
   "source": [
    "# Market Research: Evaluating Market Demand for Smart Pen\n",
    "The objective of this project is to gain experience with working with secondary data. This notebook defaults to Python 3, as R is ill-suited to string manipulaiton. However, I also wrote some R code for certain cells, because those tasks are more convinient to run in R. \n",
    "\n",
    "The main data source for this project is from a json file of metadata (descriptions, price, salesrank, brand info, and co-purchasing links) for over 600K office and electronic products listed on Amazon and a json file containing over 9 million customer ratings and reviews for the above products. You can check the description of the data source here http://jmcauley.ucsd.edu/data/amazon/"
   ]
  },
  {
   "cell_type": "markdown",
   "metadata": {},
   "source": [
    "**Step 1:** \n",
    "Write a function `filter_products_raw` that takes one argument (`key_phrase`) and returns a list of strings; these strings will be all the lines in the `products.json` file which contain the specified key phrase."
   ]
  },
  {
   "cell_type": "code",
   "execution_count": 1,
   "metadata": {},
   "outputs": [],
   "source": [
    "#load the products.json\n",
    "import json\n",
    "# read file\n",
    "with open('products.json', 'r') as myfile:\n",
    "    product = myfile.read()"
   ]
  },
  {
   "cell_type": "code",
   "execution_count": 2,
   "metadata": {
    "scrolled": true
   },
   "outputs": [
    {
     "data": {
      "text/plain": [
       "829501993"
      ]
     },
     "execution_count": 2,
     "metadata": {},
     "output_type": "execute_result"
    }
   ],
   "source": [
    "len(product)"
   ]
  },
  {
   "cell_type": "code",
   "execution_count": 3,
   "metadata": {},
   "outputs": [
    {
     "name": "stdout",
     "output_type": "stream",
     "text": [
      "[\"{'asin': '0132793040', 'imUrl': 'http://ecx.images-amazon.com/images/I/31JIPhp%2BGIL.jpg', 'description': 'The Kelby Training DVD Mastering Blend Modes in Adobe Photoshop CS5 with Corey Barker is a useful tool for becoming familiar with the use of blend modes in Adobe Photoshop. For those who are serious about mastering all that Photoshop has to offer, mastering blend modes is just as important as mastering layers.In this DVD tutorial, seasoned expert Corey Barker explores the function of blend modes in a variety of scenarios such as image restoration, sharpening, adjustments, special effects and much more. Since every project scenario is different, Corey encourages you to experiment with these blend modes by giving you the skills and confidence you need.', 'categories': [['Electronics', 'Computers & Accessories', 'Cables & Accessories', 'Monitor Accessories']], 'title': 'Kelby Training DVD: Mastering Blend Modes in Adobe Photoshop CS5 By Corey Barker'}\\n\", \"{'asin': '0321732944', 'imUrl': 'http://ecx.images-amazon.com/images/I/31uogm6YcrL.jpg', 'categories': [['Electronics', 'Computers & Accessories', 'Cables & Accessories', 'Monitor Accessories']], 'title': 'Kelby Training DVD: Adobe Photoshop CS5 Crash Course By Matt Kloskowski'}\\n\", \"{'asin': '0439886341', 'categories': [['Electronics', 'Computers & Accessories', 'PDAs, Handhelds & Accessories', 'PDAs & Handhelds']], 'description': 'Digital Organizer and Messenger', 'title': 'Digital Organizer and Messenger', 'price': 8.15, 'salesRank': {'Electronics': 144944}, 'imUrl': 'http://ecx.images-amazon.com/images/I/51k0qa8fNML._SX300_.jpg', 'related': {'also_viewed': ['0545016266', 'B009ECM8QY', 'B001CODA9G', 'B000N2X2GO', 'B00005T3UK', 'B00009MVFL', 'B000VU0CQG', 'B0000796XL']}}\\n\"]\n"
     ]
    }
   ],
   "source": [
    "#check the first 3 elements\n",
    "from itertools import islice\n",
    "with open('products.json', 'r') as myfile:\n",
    "    head = list(islice(myfile, 3))\n",
    "print(head)"
   ]
  },
  {
   "cell_type": "code",
   "execution_count": 4,
   "metadata": {},
   "outputs": [],
   "source": [
    "import demjson\n",
    "from tqdm import tqdm_notebook\n",
    "\n",
    "#first filter those with certain key words\n",
    "def filter_products_raw1(key_phrase):\n",
    "    res = []\n",
    "    data = open('products.json')\n",
    "    for line in tqdm_notebook(data):\n",
    "        if key_phrase in line:\n",
    "            res.append(line)\n",
    "    return res"
   ]
  },
  {
   "cell_type": "code",
   "execution_count": 5,
   "metadata": {},
   "outputs": [],
   "source": [
    "#then only select those with key_phrase in title\n",
    "def filter_products_raw(key_phrase):\n",
    "    res = []\n",
    "    k_list = filter_products_raw1(key_phrase)\n",
    "    for line in k_list: \n",
    "        product_dict1 = demjson.decode(line) \n",
    "        if 'title' in product_dict1:\n",
    "            if key_phrase in product_dict1['title']:\n",
    "                res.append(product_dict1)\n",
    "    return res"
   ]
  },
  {
   "cell_type": "markdown",
   "metadata": {},
   "source": [
    "**Step 2:** \n",
    "Using the `filter_products_raw` function, try different key words or phrases to find a collection of products. "
   ]
  },
  {
   "cell_type": "code",
   "execution_count": 6,
   "metadata": {
    "scrolled": true
   },
   "outputs": [
    {
     "data": {
      "application/vnd.jupyter.widget-view+json": {
       "model_id": "652edad4e8bf4017ba8abd041604bb8d",
       "version_major": 2,
       "version_minor": 0
      },
      "text/plain": [
       "HBox(children=(IntProgress(value=1, bar_style='info', max=1), HTML(value='')))"
      ]
     },
     "metadata": {},
     "output_type": "display_data"
    },
    {
     "name": "stdout",
     "output_type": "stream",
     "text": [
      "\n"
     ]
    },
    {
     "data": {
      "application/vnd.jupyter.widget-view+json": {
       "model_id": "2b28dea3bdfd48439cf11af2c3405e57",
       "version_major": 2,
       "version_minor": 0
      },
      "text/plain": [
       "HBox(children=(IntProgress(value=1, bar_style='info', max=1), HTML(value='')))"
      ]
     },
     "metadata": {},
     "output_type": "display_data"
    },
    {
     "name": "stdout",
     "output_type": "stream",
     "text": [
      "\n"
     ]
    },
    {
     "data": {
      "application/vnd.jupyter.widget-view+json": {
       "model_id": "1956abfdf8db4bcbb76663812418a485",
       "version_major": 2,
       "version_minor": 0
      },
      "text/plain": [
       "HBox(children=(IntProgress(value=1, bar_style='info', max=1), HTML(value='')))"
      ]
     },
     "metadata": {},
     "output_type": "display_data"
    },
    {
     "name": "stdout",
     "output_type": "stream",
     "text": [
      "\n"
     ]
    },
    {
     "data": {
      "application/vnd.jupyter.widget-view+json": {
       "model_id": "89e68ba0a1524b2c8dffc2cc8178667f",
       "version_major": 2,
       "version_minor": 0
      },
      "text/plain": [
       "HBox(children=(IntProgress(value=1, bar_style='info', max=1), HTML(value='')))"
      ]
     },
     "metadata": {},
     "output_type": "display_data"
    },
    {
     "name": "stdout",
     "output_type": "stream",
     "text": [
      "\n"
     ]
    },
    {
     "data": {
      "application/vnd.jupyter.widget-view+json": {
       "model_id": "1fc211f5ced44accb4a461d4e2f6f94e",
       "version_major": 2,
       "version_minor": 0
      },
      "text/plain": [
       "HBox(children=(IntProgress(value=1, bar_style='info', max=1), HTML(value='')))"
      ]
     },
     "metadata": {},
     "output_type": "display_data"
    },
    {
     "name": "stdout",
     "output_type": "stream",
     "text": [
      "\n"
     ]
    }
   ],
   "source": [
    "smartpen = filter_products_raw('Smartpen')\n",
    "smartpen1 = filter_products_raw('smart pen')\n",
    "smartpen2 = filter_products_raw('smartpen')\n",
    "smartpen3 = filter_products_raw('Smart Pen')\n",
    "smartnotebook = filter_products_raw('Smart Notebook')"
   ]
  },
  {
   "cell_type": "code",
   "execution_count": 7,
   "metadata": {
    "scrolled": true
   },
   "outputs": [
    {
     "data": {
      "text/plain": [
       "(22, 1, 1, 6, 8)"
      ]
     },
     "execution_count": 7,
     "metadata": {},
     "output_type": "execute_result"
    }
   ],
   "source": [
    "#check the length of each list\n",
    "len(smartpen), len(smartpen1), len(smartpen2), len(smartpen3), len(smartnotebook)"
   ]
  },
  {
   "cell_type": "code",
   "execution_count": 8,
   "metadata": {},
   "outputs": [
    {
     "name": "stdout",
     "output_type": "stream",
     "text": [
      "[{'asin': 'B001AAOZHI', 'categories': [['Electronics', 'Portable Audio & Video', 'Digital Voice Recorders']], 'description': 'From the ManufacturerCapture EverythingThe Pulse smartpen records audio and links it to what you write. Missed something? Tap on your notesNo Need to Lug the LaptopThe Pulse smartpen automatically captures everything as you write and draw. Transfer your notes to your computer, organize them, and even search for words within your notes. Find what you want in seconds.Share Your NotesTransform your notes and audio into interactive movies. Upload your creations online for everyone to see, hear and play.What You GetThe Pulse smartpen (1.3 ounces, anodized aluminum housing)1 GB of memory (actual user available memory will be less)Livescribe Desktop software (download)3-D Recording Headset100 sheet dot paper college-ruled notebookUSB mobile charging cradleSmartpen case2 black fine point ink cartridgesDemo card and interactive stickersInteractive Getting Started GuideWhat You NeedWindows XP&trade; 32-bit SP2 or higher, Windows Vista&trade; 32 or 64-bit operating system, or Intel Mac with Mac OS X 10.5.5 or newer600MHz CPU or higher300 MB minimum free disk spaceAvailable USB portInternet connectionThe Pulse smartpen works only with Livescribe dot paper.Warranty InformationInternational Limited Warranty.Livescribe warrants the Pulse smartpen to be free from defects in materials and workmanship under normal use for a period of ninety (90) days from the date of original direct or retail purchase. This warranty is void if the product has been damaged by accident or unreasonable use, immersion in water, neglect, abuse, improper maintenance, or other causes not arising out of defects in workmanship or materials of the product. All warranty claims are subject to: (1) you notifying Livescribe of the warranty claim within the warranty period, (2) Livescribe verifying the existence of a defect in the product and (3) receipt of valid proof of your purchase and the date of your purchase. Your exclusive remedy shall be, at Livescribe\\'s option, to have it repaired or receive a replacement Pulse smartpen. All shipping costs, both to Livescribe and back to the user/owner must be prepaid by the user/owner. Before returning the Pulse smartpen, please contact the Livescribe Customer Service Department for instructions.In the event that a product under warranty is repaired or replaced, the replacement will be covered under the original warranty or for 30 days, whichever is longer. Repair or replacement is your exclusive remedy, and Livescribe&rsquo;s exclusive liability, under this warranty. The limited warranty set forth herein is the only warranty made to you and is provided in lieu of any other warranties (if any) created by any documentation or packaging. This limited warranty gives you specific legal rights.Disclaimer of Warranties.You expressly acknowledge and agree that use of the Livescribe desktop software, Pulse smartpen and other products and services is at your sole risk and that the entire risk as to satisfactory quality, performance, accuracy and effort is with you. Except for the limited warranty set forth above and to the maximumExtent permitted by applicable law, the Livescribe desktop software, Pulse smartpen, products and services are provided \"as is\", with all faults and without warranty of any kind, and Livescribe and Livescribe\\'s licensors (collectively referred to as \"Livescribe\") hereby disclaim all other warranties and representations, either express, implied or statutory, including, but not limited to, the implied warranties of merchantability, of satisfactory quality, of fitness for a particular purpose, of accuracy, of quiet enjoyment, and non-infringement of third party rights. Livescribe does not warrant against interference with your enjoyment of the Livescribe desktop software, Pulse smartpen, products or services, that the functions contained in the Livescribe desktop software, Pulse smartpen, products or services will meet your requirements, that the operation of the Livescribe desktop software, Pulse smartpen or services will be uninterrupted or error-free, or that defects in the Livescribe desktop software, Pulse smartpen or services will be corrected. No oral or written information or advice given by Livescribe or any Livescribe authorized representative shall create a warranty. Should the Livescribe desktop software, Pulse smartpen, or services prove defective, you assume the entire cost of all necessary servicing, repair or correction.Limitation of Liability.To the extent not prohibited by law, in no event shall Livescribe be liable for personal injury, or any incidental, special, indirect or consequential damages whatsoever, including, without limitation, damages for loss of profits, loss of data, business interruption or any other commercial damages or losses, arising out of or related to your use or inability to use the Livescribe desktop software, Pulse smartpen, or services, however caused, regardless of the theory of liability (contract, tort or otherwise) and even if Livescribe has been advised of the possibility of such damages.In no event shall Livescribe\\'s total liability to you for all damages (other than as may be required by applicable law in cases involving personal injury) exceed the amount of fifty dollars ($50.00). The foregoing limitations will apply even if the above stated remedy fails of its essential purpose.Paper &amp; Accessory ProductsThe warranty is 30 days. The customer would have to pay shipping both ways for defective product.Customer Support InformationPhone 1-877-SCRIBE9 (1-877-727-4239): Mon.-Sun., 7am-7pm PSTChat via www.livescribe.com/support: Mon.-Fri., 9am-5pm PSTEmail cs@livescribe.com: 7 days a weekSupport LanguagesAt this time, Livescribe only offers support in English.', 'title': 'Livescribe 1 GB Pulse Smartpen (APA-00001)', 'price': 289.99, 'salesRank': {'Electronics': 58838}, 'imUrl': 'http://ecx.images-amazon.com/images/I/41N8dbsDUHL._SY300_.jpg', 'related': {'also_viewed': ['B00524DLZ0', 'B002DJV83Y', 'B009FU2AYU', 'B001AAN4PW', 'B00FG38L16', 'B00FONJDZ6', 'B009PK2T00', 'B002DJTMSW', '1432740660', 'B009FU2AW2', 'B002M3HO0M', 'B003TO56F8', 'B006WAPM78', 'B001AALJ1I', 'B00GMEL0UM', 'B005KPUYVA', 'B002DJTMR8', 'B00GMEL0TI', 'B001AAOZV4', 'B00CEKW8WM', '0972169504', 'B00HETUB54', 'B00264GKXO', 'B003TO56FI'], 'buy_after_viewing': ['B001AAOZV4', 'B001AALJ1I', 'B00524DLZ0', 'B003TO56F8']}}, {'asin': 'B001AAN4PW', 'categories': [['Electronics', 'Portable Audio & Video', 'Digital Voice Recorders']], 'description': 'From the ManufacturerCapture EverythingThe Pulse smartpen records audio and links it what you write. Missed something? Tap on your notes or drawings with the tip of your Pulse smartpen to hear what was said while you were writing.No Need to Lug the LaptopThe Pulse smartpen automatically captures everything as you write and draw. Transfer your notes to your computer, organize them, and even search for words within your notes. Find what you want in seconds.Share Your NotesTransform your notes and audio into interactive movies. Upload your creations online for everyone to see, hear and play.What You GetThe Pulse smartpen (1.3 ounces, anodized aluminum housing)2 GB of memory (actual user available memory will be less)Livescribe Desktop software (download)3-D Recording Headset100 sheet dot paper college-ruled notebookUSB mobile charging cradleSmartpen case3 black fine point ink cartridges + 1 stylus cartridgeDemo card and interactive stickersInteractive Getting Started GuideWhat You NeedWindows XP&trade; 32-bit SP2 or higher, Windows Vista&trade; 32 or 64-bit operating system, or Intel Mac with Mac OS X 10.5.5 or newer600MHz CPU or higher300 MB minimum free disk spaceAvailable USB portInternet connectionThe Pulse smartpen works only with Livescribe dot paper.Warranty InformationInternational Limited Warranty. Livescribe warrants the Pulse smartpen to be free from defects in materials and workmanship under normal use for a period of ninety (90) days from the date of original direct or retail purchase. This warranty is void if the product has been damaged by accident or unreasonable use, immersion in water, neglect, abuse, improper maintenance, or other causes not arising out of defects in workmanship or materials of the product. All warranty claims are subject to: (1) you notifying Livescribe of the warranty claim within the warranty period, (2) Livescribe verifying the existence of a defect in the product and (3) receipt of valid proof of your purchase and the date of your purchase. Your exclusive remedy shall be, at Livescribe\\'s option, to have it repaired or receive a replacement Pulse smartpen. All shipping costs, both to Livescribe and back to the user/owner must be prepaid by the user/owner. Before returning the Pulse smartpen, please contact the Livescribe Customer Service Department for instructions.In the event that a product under warranty is repaired or replaced, the replacement will be covered under the original warranty or for 30 days, whichever is longer. Repair or replacement is your exclusive remedy, and Livescribe&rsquo;s exclusive liability, under this warranty. The limited warranty set forth herein is the only warranty made to you and is provided in lieu of any other warranties (if any) created by any documentation or packaging. This limited warranty gives you specific legal rights.Disclaimer of Warranties.You expressly acknowledge and agree that use of the Livescribe desktop software, Pulse smartpen and other products and services is at your sole risk and that the entire risk as to satisfactory quality, performance, accuracy and effort is with you. Except for the limited warranty set forth above and to the maximumExtent permitted by applicable law, the Livescribe desktop software, Pulse smartpen, products and services are provided \"as is\", with all faults and without warranty of any kind, and Livescribe and Livescribe\\'s licensors (collectively referred to as \"Livescribe\") hereby disclaim all other warranties and representations, either express, implied or statutory, including, but not limited to, the implied warranties of merchantability, of satisfactory quality, of fitness for a particular purpose, of accuracy, of quiet enjoyment, and non-infringement of third party rights. Livescribe does not warrant against interference with your enjoyment of the Livescribe desktop software, Pulse smartpen, products or services, that the functions contained in the Livescribe desktop software, Pulse smartpen, products or services will meet your requirements, that the operation of the Livescribe desktop software, Pulse smartpen or services will be uninterrupted or error-free, or that defects in the Livescribe desktop software, Pulse smartpen or services will be corrected. No oral or written information or advice given by Livescribe or any Livescribe authorized representative shall create a warranty. Should the Livescribe desktop software, Pulse smartpen, or services prove defective, you assume the entire cost of all necessary servicing, repair or correction.Limitation of Liability.To the extent not prohibited by law, in no event shall Livescribe be liable for personal injury, or any incidental, special, indirect or consequential damages whatsoever, including, without limitation, damages for loss of profits, loss of data, business interruption or any other commercial damages or losses, arising out of or related to your use or inability to use the Livescribe desktop software, Pulse smartpen, or services, however caused, regardless of the theory of liability (contract, tort or otherwise) and even if Livescribe has been advised of the possibility of such damages.In no event shall Livescribe\\'s total liability to you for all damages (other than as may be required by applicable law in cases involving personal injury) exceed the amount of fifty dollars ($50.00). The foregoing limitations will apply even if the above stated remedy fails of its essential purpose.Paper &amp; Accessory ProductsThe warranty is 30 days. The customer would have to pay shipping both ways for defective product.Customer Support InformationPhone 1-877-SCRIBE9 (1-877-727-4239): Mon.-Sun., 7am-7pm PSTChat via www.livescribe.com/support: Mon.-Fri., 9am-5pm PSTEmail cs@livescribe.com: 7 days a weekSupport LanguagesAt this time, Livescribe only offers support in English.', 'title': 'Livescribe 2GB Pulse Smartpen (APA-00002)', 'price': 289.99, 'salesRank': {'Electronics': 49899}, 'imUrl': 'http://ecx.images-amazon.com/images/I/41N8dbsDUHL._SY300_.jpg', 'related': {'also_bought': ['B001AAOZV4', 'B001AALJ1I', 'B001R4I74E', 'B003TO56F8', 'B002M3HO0M', 'B00524DLZ0', 'B002DJTMSW'], 'buy_after_viewing': ['B00524DLZ0', 'B001AAOZV4', 'B001AALJ1I', 'B009FU2AYU']}}, {'asin': 'B001QR6FN2', 'description': 'Pro Pack Bundle', 'title': 'Livescribe APA00005 Costco Livescribe Smartpen Bundle', 'price': 117.57, 'imUrl': 'http://ecx.images-amazon.com/images/I/51MMX602t7L._SX300_.jpg', 'related': {'also_viewed': ['B00524DLZ0', 'B001AAOZV4', 'B009PK2T00', 'B00FG38L16', 'B002DJV83Y', 'B002DJTMSW', 'B009FU2AYU', 'B001AAN4PW', 'B009FU2AW2'], 'buy_after_viewing': ['B00524DLZ0', 'B001AAOZV4', 'B001AALJ1I', 'B002M3HO0M']}, 'categories': [['Electronics', 'Computers & Accessories', 'Cables & Accessories', 'Input Devices', 'Digital Pens']]}]\n"
     ]
    }
   ],
   "source": [
    "#take a look at the head of smartpen\n",
    "head = list(islice(smartpen, 3))\n",
    "print(head)"
   ]
  },
  {
   "cell_type": "markdown",
   "metadata": {},
   "source": [
    "**Step 3:** Based on the `filter_products_raw` function, write a new function `filter_products_df` that returns a pandas data frame with two columns: `product.id` and `price`. Ignore those prices are missing."
   ]
  },
  {
   "cell_type": "code",
   "execution_count": 9,
   "metadata": {},
   "outputs": [],
   "source": [
    "import pandas as pd\n",
    "\n",
    "def filter_products_df(key_phrase):\n",
    "    data = {'product.id':[], 'price':[]}\n",
    "    key_list = filter_products_raw(key_phrase)\n",
    "    for line in key_list:\n",
    "        product_dict = demjson.decode(str(line))\n",
    "        if 'price' in product_dict:\n",
    "            data['product.id'].append(product_dict['asin'])\n",
    "            data['price'].append(product_dict['price'])\n",
    "    df = pd.DataFrame(data)\n",
    "    return df"
   ]
  },
  {
   "cell_type": "markdown",
   "metadata": {},
   "source": [
    "**Step 4:** Using the new `filter_products_df` function, filter the products by the key phrase we selected in Step 2, and obtain a data frame of product ids with their corresponding prices; call this data frame variable `products`."
   ]
  },
  {
   "cell_type": "code",
   "execution_count": 10,
   "metadata": {},
   "outputs": [
    {
     "data": {
      "application/vnd.jupyter.widget-view+json": {
       "model_id": "f74fbdf0a1f8424f973567c0585d03da",
       "version_major": 2,
       "version_minor": 0
      },
      "text/plain": [
       "HBox(children=(IntProgress(value=1, bar_style='info', max=1), HTML(value='')))"
      ]
     },
     "metadata": {},
     "output_type": "display_data"
    },
    {
     "name": "stdout",
     "output_type": "stream",
     "text": [
      "\n"
     ]
    },
    {
     "data": {
      "application/vnd.jupyter.widget-view+json": {
       "model_id": "c67aaca7ff6046949ec0df5afd73f31a",
       "version_major": 2,
       "version_minor": 0
      },
      "text/plain": [
       "HBox(children=(IntProgress(value=1, bar_style='info', max=1), HTML(value='')))"
      ]
     },
     "metadata": {},
     "output_type": "display_data"
    },
    {
     "name": "stdout",
     "output_type": "stream",
     "text": [
      "\n"
     ]
    },
    {
     "data": {
      "application/vnd.jupyter.widget-view+json": {
       "model_id": "0c2bcf14f13549ae9ade9801fb26cd31",
       "version_major": 2,
       "version_minor": 0
      },
      "text/plain": [
       "HBox(children=(IntProgress(value=1, bar_style='info', max=1), HTML(value='')))"
      ]
     },
     "metadata": {},
     "output_type": "display_data"
    },
    {
     "name": "stdout",
     "output_type": "stream",
     "text": [
      "\n"
     ]
    },
    {
     "data": {
      "application/vnd.jupyter.widget-view+json": {
       "model_id": "801909e5d6904a1dab7cb85c6533507b",
       "version_major": 2,
       "version_minor": 0
      },
      "text/plain": [
       "HBox(children=(IntProgress(value=1, bar_style='info', max=1), HTML(value='')))"
      ]
     },
     "metadata": {},
     "output_type": "display_data"
    },
    {
     "name": "stdout",
     "output_type": "stream",
     "text": [
      "\n"
     ]
    },
    {
     "data": {
      "application/vnd.jupyter.widget-view+json": {
       "model_id": "6b000e62667144cba70291d73a23652f",
       "version_major": 2,
       "version_minor": 0
      },
      "text/plain": [
       "HBox(children=(IntProgress(value=1, bar_style='info', max=1), HTML(value='')))"
      ]
     },
     "metadata": {},
     "output_type": "display_data"
    },
    {
     "name": "stdout",
     "output_type": "stream",
     "text": [
      "\n"
     ]
    },
    {
     "data": {
      "text/html": [
       "<div>\n",
       "<style scoped>\n",
       "    .dataframe tbody tr th:only-of-type {\n",
       "        vertical-align: middle;\n",
       "    }\n",
       "\n",
       "    .dataframe tbody tr th {\n",
       "        vertical-align: top;\n",
       "    }\n",
       "\n",
       "    .dataframe thead th {\n",
       "        text-align: right;\n",
       "    }\n",
       "</style>\n",
       "<table border=\"1\" class=\"dataframe\">\n",
       "  <thead>\n",
       "    <tr style=\"text-align: right;\">\n",
       "      <th></th>\n",
       "      <th>product.id</th>\n",
       "      <th>price</th>\n",
       "    </tr>\n",
       "  </thead>\n",
       "  <tbody>\n",
       "    <tr>\n",
       "      <th>0</th>\n",
       "      <td>B00CX49V38</td>\n",
       "      <td>111.00</td>\n",
       "    </tr>\n",
       "    <tr>\n",
       "      <th>1</th>\n",
       "      <td>B001AAOZHI</td>\n",
       "      <td>289.99</td>\n",
       "    </tr>\n",
       "    <tr>\n",
       "      <th>2</th>\n",
       "      <td>B001AAN4PW</td>\n",
       "      <td>289.99</td>\n",
       "    </tr>\n",
       "    <tr>\n",
       "      <th>3</th>\n",
       "      <td>B001QR6FN2</td>\n",
       "      <td>117.57</td>\n",
       "    </tr>\n",
       "    <tr>\n",
       "      <th>4</th>\n",
       "      <td>B001R4KB3E</td>\n",
       "      <td>17.06</td>\n",
       "    </tr>\n",
       "  </tbody>\n",
       "</table>\n",
       "</div>"
      ],
      "text/plain": [
       "   product.id   price\n",
       "0  B00CX49V38  111.00\n",
       "1  B001AAOZHI  289.99\n",
       "2  B001AAN4PW  289.99\n",
       "3  B001QR6FN2  117.57\n",
       "4  B001R4KB3E   17.06"
      ]
     },
     "execution_count": 10,
     "metadata": {},
     "output_type": "execute_result"
    }
   ],
   "source": [
    "#decide to only filter products contain ['smartpen', 'Smartpen', 'smart pen', 'Smart Pen', 'Smart Notebook'], because these are more relevant to our analysis.\n",
    "products = pd.DataFrame()\n",
    "for keyword in ['smartpen', 'Smartpen', 'smart pen', 'Smart Pen', 'Smart Notebook']:\n",
    "    data = filter_products_df(keyword)\n",
    "    products = products.append(data, ignore_index = True)\n",
    "products.head()"
   ]
  },
  {
   "cell_type": "code",
   "execution_count": 11,
   "metadata": {
    "scrolled": true
   },
   "outputs": [
    {
     "data": {
      "text/plain": [
       "32"
      ]
     },
     "execution_count": 11,
     "metadata": {},
     "output_type": "execute_result"
    }
   ],
   "source": [
    "len(products)"
   ]
  },
  {
   "cell_type": "markdown",
   "metadata": {},
   "source": [
    "**Step 5:** Plot the distribution of prices for selected products."
   ]
  },
  {
   "cell_type": "code",
   "execution_count": 12,
   "metadata": {},
   "outputs": [],
   "source": [
    "# Set up R if you need to, and suppress future warning\n",
    "import rpy2.ipython\n",
    "import warnings\n",
    "warnings.simplefilter(action='ignore', category=FutureWarning)\n",
    "%load_ext rpy2.ipython"
   ]
  },
  {
   "cell_type": "code",
   "execution_count": 13,
   "metadata": {},
   "outputs": [
    {
     "data": {
      "image/png": "[encoded data removed]"
     },
     "metadata": {},
     "output_type": "display_data"
    }
   ],
   "source": [
    "%%R -i products\n",
    "\n",
    "#install ggplot2 if you need to\n",
    "install.packages(\"ggplot2\", repos='http://cran.us.r-project.org', quiet=TRUE)\n",
    "library(ggplot2)\n",
    "#use ggplot to plot the distribution\n",
    "ggplot(products, aes(x=price)) + geom_density() + theme_bw() + labs(title = 'Price distribution', \n",
    "       x = 'Price', y = 'Density') + theme(plot.title = element_text(hjust = 0.5))\n",
    "\n"
   ]
  },
  {
   "cell_type": "code",
   "execution_count": 14,
   "metadata": {},
   "outputs": [],
   "source": [
    "%%R\n",
    "\n",
    "#save the plot\n",
    "ggsave(\"price_histogram.png\", width=6.5, height=3)"
   ]
  },
  {
   "cell_type": "markdown",
   "metadata": {},
   "source": [
    "**Step 6:** Write a function called `filter_reviews` with one argument called `products` to find all the reviews that match the products which match the key phrase query. It should return a data frame with one review per row and three columns: `product.id`, `rating` (on the 5-star scale), and `review` (text)."
   ]
  },
  {
   "cell_type": "code",
   "execution_count": 15,
   "metadata": {},
   "outputs": [],
   "source": [
    "def filter_reviews(key_phrase):\n",
    "    data = {'product.id':[], 'rating':[],'review':[]}\n",
    "    data_review = open('reviews.json')\n",
    "    for line in data_review:\n",
    "        if key_phrase in line:\n",
    "            review_dict = demjson.decode(line)\n",
    "            data['product.id'].append(review_dict['asin'])\n",
    "            data['rating'].append(review_dict['overall'])\n",
    "            data['review'].append(review_dict['reviewText'])\n",
    "    df = pd.DataFrame(data)\n",
    "    return df"
   ]
  },
  {
   "cell_type": "code",
   "execution_count": 16,
   "metadata": {},
   "outputs": [
    {
     "data": {
      "text/html": [
       "<div>\n",
       "<style scoped>\n",
       "    .dataframe tbody tr th:only-of-type {\n",
       "        vertical-align: middle;\n",
       "    }\n",
       "\n",
       "    .dataframe tbody tr th {\n",
       "        vertical-align: top;\n",
       "    }\n",
       "\n",
       "    .dataframe thead th {\n",
       "        text-align: right;\n",
       "    }\n",
       "</style>\n",
       "<table border=\"1\" class=\"dataframe\">\n",
       "  <thead>\n",
       "    <tr style=\"text-align: right;\">\n",
       "      <th></th>\n",
       "      <th>product.id</th>\n",
       "      <th>rating</th>\n",
       "      <th>review</th>\n",
       "    </tr>\n",
       "  </thead>\n",
       "  <tbody>\n",
       "    <tr>\n",
       "      <th>0</th>\n",
       "      <td>B001AALJ1I</td>\n",
       "      <td>5.0</td>\n",
       "      <td>Purchased these for my high-school aged son. T...</td>\n",
       "    </tr>\n",
       "    <tr>\n",
       "      <th>1</th>\n",
       "      <td>B001AALJ1I</td>\n",
       "      <td>5.0</td>\n",
       "      <td>The  Livescribe Pulse Smartpen is one componen...</td>\n",
       "    </tr>\n",
       "    <tr>\n",
       "      <th>2</th>\n",
       "      <td>B001AALJ1I</td>\n",
       "      <td>5.0</td>\n",
       "      <td>I purchased these for my smartpen and they're ...</td>\n",
       "    </tr>\n",
       "    <tr>\n",
       "      <th>3</th>\n",
       "      <td>B001AALJ1I</td>\n",
       "      <td>4.0</td>\n",
       "      <td>I bought these first set of notebooks along wi...</td>\n",
       "    </tr>\n",
       "    <tr>\n",
       "      <th>4</th>\n",
       "      <td>B001AAOZU0</td>\n",
       "      <td>1.0</td>\n",
       "      <td>I love my smartpen, but these pen refills are ...</td>\n",
       "    </tr>\n",
       "  </tbody>\n",
       "</table>\n",
       "</div>"
      ],
      "text/plain": [
       "   product.id  rating                                             review\n",
       "0  B001AALJ1I     5.0  Purchased these for my high-school aged son. T...\n",
       "1  B001AALJ1I     5.0  The  Livescribe Pulse Smartpen is one componen...\n",
       "2  B001AALJ1I     5.0  I purchased these for my smartpen and they're ...\n",
       "3  B001AALJ1I     4.0  I bought these first set of notebooks along wi...\n",
       "4  B001AAOZU0     1.0  I love my smartpen, but these pen refills are ..."
      ]
     },
     "execution_count": 16,
     "metadata": {},
     "output_type": "execute_result"
    }
   ],
   "source": [
    "#filter reviews by the produts of interest\n",
    "reviews = pd.DataFrame()\n",
    "for keyword in ['smartpen', 'Smartpen', 'smart pen', 'Smart Pen', 'Smart Notebook']:\n",
    "    data = filter_reviews(keyword)\n",
    "    reviews = reviews.append(data, ignore_index = True)\n",
    "reviews.head()"
   ]
  },
  {
   "cell_type": "code",
   "execution_count": 17,
   "metadata": {},
   "outputs": [
    {
     "data": {
      "text/plain": [
       "449"
      ]
     },
     "execution_count": 17,
     "metadata": {},
     "output_type": "execute_result"
    }
   ],
   "source": [
    "len(reviews)"
   ]
  },
  {
   "cell_type": "markdown",
   "metadata": {},
   "source": [
    "**Step 7:** Summarize the reviews into a data frame called `review_summaries` with three columns: `product.id`, `count` for the number of reviews, and `ave.rating` for the mean rating."
   ]
  },
  {
   "cell_type": "code",
   "execution_count": 18,
   "metadata": {},
   "outputs": [
    {
     "data": {
      "text/html": [
       "<div>\n",
       "<style scoped>\n",
       "    .dataframe tbody tr th:only-of-type {\n",
       "        vertical-align: middle;\n",
       "    }\n",
       "\n",
       "    .dataframe tbody tr th {\n",
       "        vertical-align: top;\n",
       "    }\n",
       "\n",
       "    .dataframe thead th {\n",
       "        text-align: right;\n",
       "    }\n",
       "</style>\n",
       "<table border=\"1\" class=\"dataframe\">\n",
       "  <thead>\n",
       "    <tr style=\"text-align: right;\">\n",
       "      <th></th>\n",
       "      <th>product.id</th>\n",
       "      <th>counts</th>\n",
       "      <th>ave.rating</th>\n",
       "    </tr>\n",
       "  </thead>\n",
       "  <tbody>\n",
       "    <tr>\n",
       "      <th>0</th>\n",
       "      <td>B00009ZIOF</td>\n",
       "      <td>1</td>\n",
       "      <td>5.0</td>\n",
       "    </tr>\n",
       "    <tr>\n",
       "      <th>1</th>\n",
       "      <td>B0001DBEM4</td>\n",
       "      <td>1</td>\n",
       "      <td>5.0</td>\n",
       "    </tr>\n",
       "    <tr>\n",
       "      <th>2</th>\n",
       "      <td>B000652M6Y</td>\n",
       "      <td>1</td>\n",
       "      <td>3.0</td>\n",
       "    </tr>\n",
       "    <tr>\n",
       "      <th>3</th>\n",
       "      <td>B000FMJLQC</td>\n",
       "      <td>1</td>\n",
       "      <td>2.0</td>\n",
       "    </tr>\n",
       "    <tr>\n",
       "      <th>4</th>\n",
       "      <td>B000MUP69I</td>\n",
       "      <td>1</td>\n",
       "      <td>4.0</td>\n",
       "    </tr>\n",
       "  </tbody>\n",
       "</table>\n",
       "</div>"
      ],
      "text/plain": [
       "   product.id  counts  ave.rating\n",
       "0  B00009ZIOF       1         5.0\n",
       "1  B0001DBEM4       1         5.0\n",
       "2  B000652M6Y       1         3.0\n",
       "3  B000FMJLQC       1         2.0\n",
       "4  B000MUP69I       1         4.0"
      ]
     },
     "execution_count": 18,
     "metadata": {},
     "output_type": "execute_result"
    }
   ],
   "source": [
    "reviews_counts = reviews.groupby('product.id').size().reset_index(name='counts')\n",
    "reviews_rating = reviews.groupby('product.id').rating.mean().reset_index(name='ave.rating')\n",
    "review_summaries = pd.merge(reviews_counts, reviews_rating, left_on='product.id', right_on='product.id', how='inner')\n",
    "review_summaries.head()"
   ]
  },
  {
   "cell_type": "code",
   "execution_count": 19,
   "metadata": {},
   "outputs": [
    {
     "data": {
      "text/plain": [
       "(89, 3)"
      ]
     },
     "execution_count": 19,
     "metadata": {},
     "output_type": "execute_result"
    }
   ],
   "source": [
    "review_summaries.shape"
   ]
  },
  {
   "cell_type": "markdown",
   "metadata": {},
   "source": [
    "**Step 8:** Merge `review_summaries` with `products` on the `product.id` variable."
   ]
  },
  {
   "cell_type": "code",
   "execution_count": 20,
   "metadata": {
    "scrolled": true
   },
   "outputs": [
    {
     "data": {
      "text/html": [
       "<div>\n",
       "<style scoped>\n",
       "    .dataframe tbody tr th:only-of-type {\n",
       "        vertical-align: middle;\n",
       "    }\n",
       "\n",
       "    .dataframe tbody tr th {\n",
       "        vertical-align: top;\n",
       "    }\n",
       "\n",
       "    .dataframe thead th {\n",
       "        text-align: right;\n",
       "    }\n",
       "</style>\n",
       "<table border=\"1\" class=\"dataframe\">\n",
       "  <thead>\n",
       "    <tr style=\"text-align: right;\">\n",
       "      <th></th>\n",
       "      <th>product.id</th>\n",
       "      <th>price</th>\n",
       "      <th>counts</th>\n",
       "      <th>ave.rating</th>\n",
       "    </tr>\n",
       "  </thead>\n",
       "  <tbody>\n",
       "    <tr>\n",
       "      <th>0</th>\n",
       "      <td>B001AAOZHI</td>\n",
       "      <td>289.99</td>\n",
       "      <td>22</td>\n",
       "      <td>4.727273</td>\n",
       "    </tr>\n",
       "    <tr>\n",
       "      <th>1</th>\n",
       "      <td>B001AAN4PW</td>\n",
       "      <td>289.99</td>\n",
       "      <td>35</td>\n",
       "      <td>4.171429</td>\n",
       "    </tr>\n",
       "    <tr>\n",
       "      <th>2</th>\n",
       "      <td>B001QR6FN2</td>\n",
       "      <td>117.57</td>\n",
       "      <td>1</td>\n",
       "      <td>2.000000</td>\n",
       "    </tr>\n",
       "    <tr>\n",
       "      <th>3</th>\n",
       "      <td>B001R4KB66</td>\n",
       "      <td>17.06</td>\n",
       "      <td>2</td>\n",
       "      <td>5.000000</td>\n",
       "    </tr>\n",
       "    <tr>\n",
       "      <th>4</th>\n",
       "      <td>B002DJTMSW</td>\n",
       "      <td>117.57</td>\n",
       "      <td>12</td>\n",
       "      <td>4.500000</td>\n",
       "    </tr>\n",
       "  </tbody>\n",
       "</table>\n",
       "</div>"
      ],
      "text/plain": [
       "   product.id   price  counts  ave.rating\n",
       "0  B001AAOZHI  289.99      22    4.727273\n",
       "1  B001AAN4PW  289.99      35    4.171429\n",
       "2  B001QR6FN2  117.57       1    2.000000\n",
       "3  B001R4KB66   17.06       2    5.000000\n",
       "4  B002DJTMSW  117.57      12    4.500000"
      ]
     },
     "execution_count": 20,
     "metadata": {},
     "output_type": "execute_result"
    }
   ],
   "source": [
    "product_with_review = pd.merge(products, review_summaries, left_on='product.id', right_on='product.id', how='inner')\n",
    "product_with_review.head()"
   ]
  },
  {
   "cell_type": "code",
   "execution_count": 21,
   "metadata": {},
   "outputs": [
    {
     "data": {
      "text/plain": [
       "(16, 4)"
      ]
     },
     "execution_count": 21,
     "metadata": {},
     "output_type": "execute_result"
    }
   ],
   "source": [
    "product_with_review.shape"
   ]
  },
  {
   "cell_type": "markdown",
   "metadata": {},
   "source": [
    "**Step 9:** Plot a scatterplot of the review summaries with price on the x-axis, the average rating on the y axis, and the size of each point being the number of reviews. Add labels for the product ids, but fix the label size to be the same for all products."
   ]
  },
  {
   "cell_type": "code",
   "execution_count": 22,
   "metadata": {},
   "outputs": [
    {
     "data": {
      "image/png": "[encoded data removed]"
     },
     "metadata": {},
     "output_type": "display_data"
    }
   ],
   "source": [
    "%%R -i product_with_review\n",
    "\n",
    "#import ggplot2 and ggrepel\n",
    "library(ggplot2)\n",
    "install.packages(\"ggrepel\", quiet=TRUE)\n",
    "library(ggrepel)\n",
    "\n",
    "review_plot = ggplot(product_with_review, aes(x=price, y=ave.rating))\n",
    "reviews_summary = review_plot + geom_point(aes(size = counts)) + \n",
    "  geom_label_repel(aes(label = product.id), box.padding = 0.35, point.padding = 0.5,\n",
    "                   segment.color = 'grey50') + theme_classic() +\n",
    "  labs(title = 'Scatterplot of Review Summaries', \n",
    "       x = 'Price', y = 'Average Rating') + \n",
    "  scale_size_continuous(range = c(0.1,10)) + \n",
    "  theme(plot.title = element_text(hjust = 0.5))\n",
    "reviews_summary"
   ]
  },
  {
   "cell_type": "code",
   "execution_count": 23,
   "metadata": {},
   "outputs": [],
   "source": [
    "%%R\n",
    "\n",
    "#save the plot\n",
    "ggsave(\"reviews_summary.png\", width=6.5, height=4)"
   ]
  },
  {
   "cell_type": "markdown",
   "metadata": {},
   "source": [
    "**Step 10:** Write function `filter_products_by_id` that takes in a product identifier argument `idx` and returns returns the matching product information from `products.json`."
   ]
  },
  {
   "cell_type": "code",
   "execution_count": 24,
   "metadata": {},
   "outputs": [],
   "source": [
    "def filter_products_by_id(idx):\n",
    "    data = {'product.id':[], 'rating':[],'review':[]}\n",
    "    data_review = open('reviews.json')\n",
    "    for line in data_review:\n",
    "        if idx in line:\n",
    "            review_dict = demjson.decode(line)\n",
    "            data['product.id'].append(review_dict['asin'])\n",
    "            data['rating'].append(review_dict['overall'])\n",
    "            data['review'].append(review_dict['reviewText'])\n",
    "    df = pd.DataFrame(data)\n",
    "    return df"
   ]
  },
  {
   "cell_type": "markdown",
   "metadata": {},
   "source": [
    "**Step 11:** Using the plot from Step 9, the `filter_products_by_id` function, and the `review_summaries` data frame, identify 3 competitor products in different price ranges and extract the relevant information."
   ]
  },
  {
   "cell_type": "code",
   "execution_count": 25,
   "metadata": {},
   "outputs": [],
   "source": [
    "low_price = filter_products_by_id('B003RAE19Q')\n",
    "mid_price = filter_products_by_id('B00FG38L16')\n",
    "high_price = filter_products_by_id('B001AAN4PW')"
   ]
  },
  {
   "cell_type": "code",
   "execution_count": 26,
   "metadata": {},
   "outputs": [
    {
     "data": {
      "text/html": [
       "<div>\n",
       "<style scoped>\n",
       "    .dataframe tbody tr th:only-of-type {\n",
       "        vertical-align: middle;\n",
       "    }\n",
       "\n",
       "    .dataframe tbody tr th {\n",
       "        vertical-align: top;\n",
       "    }\n",
       "\n",
       "    .dataframe thead th {\n",
       "        text-align: right;\n",
       "    }\n",
       "</style>\n",
       "<table border=\"1\" class=\"dataframe\">\n",
       "  <thead>\n",
       "    <tr style=\"text-align: right;\">\n",
       "      <th></th>\n",
       "      <th>product.id</th>\n",
       "      <th>rating</th>\n",
       "      <th>review</th>\n",
       "    </tr>\n",
       "  </thead>\n",
       "  <tbody>\n",
       "    <tr>\n",
       "      <th>0</th>\n",
       "      <td>B001AAN4PW</td>\n",
       "      <td>5.0</td>\n",
       "      <td>I picked this up for the wife as I have one al...</td>\n",
       "    </tr>\n",
       "    <tr>\n",
       "      <th>1</th>\n",
       "      <td>B001AAN4PW</td>\n",
       "      <td>5.0</td>\n",
       "      <td>So I've been using my Pulse for about six mont...</td>\n",
       "    </tr>\n",
       "    <tr>\n",
       "      <th>2</th>\n",
       "      <td>B001AAN4PW</td>\n",
       "      <td>5.0</td>\n",
       "      <td>For college students unable or unwilling to lu...</td>\n",
       "    </tr>\n",
       "    <tr>\n",
       "      <th>3</th>\n",
       "      <td>B001AAN4PW</td>\n",
       "      <td>1.0</td>\n",
       "      <td>Please be advised that items from Livescribe h...</td>\n",
       "    </tr>\n",
       "    <tr>\n",
       "      <th>4</th>\n",
       "      <td>B001AAN4PW</td>\n",
       "      <td>2.0</td>\n",
       "      <td>When I run the desktop manager on my windows v...</td>\n",
       "    </tr>\n",
       "  </tbody>\n",
       "</table>\n",
       "</div>"
      ],
      "text/plain": [
       "   product.id  rating                                             review\n",
       "0  B001AAN4PW     5.0  I picked this up for the wife as I have one al...\n",
       "1  B001AAN4PW     5.0  So I've been using my Pulse for about six mont...\n",
       "2  B001AAN4PW     5.0  For college students unable or unwilling to lu...\n",
       "3  B001AAN4PW     1.0  Please be advised that items from Livescribe h...\n",
       "4  B001AAN4PW     2.0  When I run the desktop manager on my windows v..."
      ]
     },
     "execution_count": 26,
     "metadata": {},
     "output_type": "execute_result"
    }
   ],
   "source": [
    "high_price.head()"
   ]
  },
  {
   "cell_type": "code",
   "execution_count": 27,
   "metadata": {},
   "outputs": [
    {
     "data": {
      "text/html": [
       "<div>\n",
       "<style scoped>\n",
       "    .dataframe tbody tr th:only-of-type {\n",
       "        vertical-align: middle;\n",
       "    }\n",
       "\n",
       "    .dataframe tbody tr th {\n",
       "        vertical-align: top;\n",
       "    }\n",
       "\n",
       "    .dataframe thead th {\n",
       "        text-align: right;\n",
       "    }\n",
       "</style>\n",
       "<table border=\"1\" class=\"dataframe\">\n",
       "  <thead>\n",
       "    <tr style=\"text-align: right;\">\n",
       "      <th></th>\n",
       "      <th>product.id</th>\n",
       "      <th>rating</th>\n",
       "      <th>review</th>\n",
       "    </tr>\n",
       "  </thead>\n",
       "  <tbody>\n",
       "    <tr>\n",
       "      <th>0</th>\n",
       "      <td>B00FG38L16</td>\n",
       "      <td>1.0</td>\n",
       "      <td>I bought this pen and it arrived today. Unfort...</td>\n",
       "    </tr>\n",
       "    <tr>\n",
       "      <th>1</th>\n",
       "      <td>B00FG38L16</td>\n",
       "      <td>2.0</td>\n",
       "      <td>I've never been a big fan of the Livescribe sm...</td>\n",
       "    </tr>\n",
       "    <tr>\n",
       "      <th>2</th>\n",
       "      <td>B00FG38L16</td>\n",
       "      <td>4.0</td>\n",
       "      <td>The Livescribe 3 has its problems and limitati...</td>\n",
       "    </tr>\n",
       "    <tr>\n",
       "      <th>3</th>\n",
       "      <td>B00FG38L16</td>\n",
       "      <td>4.0</td>\n",
       "      <td>and then I used the writing-to-text conversion...</td>\n",
       "    </tr>\n",
       "    <tr>\n",
       "      <th>4</th>\n",
       "      <td>B00FG38L16</td>\n",
       "      <td>4.0</td>\n",
       "      <td>How does it work? That's the one thing I wante...</td>\n",
       "    </tr>\n",
       "  </tbody>\n",
       "</table>\n",
       "</div>"
      ],
      "text/plain": [
       "   product.id  rating                                             review\n",
       "0  B00FG38L16     1.0  I bought this pen and it arrived today. Unfort...\n",
       "1  B00FG38L16     2.0  I've never been a big fan of the Livescribe sm...\n",
       "2  B00FG38L16     4.0  The Livescribe 3 has its problems and limitati...\n",
       "3  B00FG38L16     4.0  and then I used the writing-to-text conversion...\n",
       "4  B00FG38L16     4.0  How does it work? That's the one thing I wante..."
      ]
     },
     "execution_count": 27,
     "metadata": {},
     "output_type": "execute_result"
    }
   ],
   "source": [
    "mid_price.head()"
   ]
  },
  {
   "cell_type": "code",
   "execution_count": 28,
   "metadata": {
    "scrolled": true
   },
   "outputs": [
    {
     "data": {
      "text/html": [
       "<div>\n",
       "<style scoped>\n",
       "    .dataframe tbody tr th:only-of-type {\n",
       "        vertical-align: middle;\n",
       "    }\n",
       "\n",
       "    .dataframe tbody tr th {\n",
       "        vertical-align: top;\n",
       "    }\n",
       "\n",
       "    .dataframe thead th {\n",
       "        text-align: right;\n",
       "    }\n",
       "</style>\n",
       "<table border=\"1\" class=\"dataframe\">\n",
       "  <thead>\n",
       "    <tr style=\"text-align: right;\">\n",
       "      <th></th>\n",
       "      <th>product.id</th>\n",
       "      <th>rating</th>\n",
       "      <th>review</th>\n",
       "    </tr>\n",
       "  </thead>\n",
       "  <tbody>\n",
       "    <tr>\n",
       "      <th>0</th>\n",
       "      <td>B003RAE19Q</td>\n",
       "      <td>4.0</td>\n",
       "      <td>I was skeptical that this pen would perform as...</td>\n",
       "    </tr>\n",
       "    <tr>\n",
       "      <th>1</th>\n",
       "      <td>B003RAE19Q</td>\n",
       "      <td>1.0</td>\n",
       "      <td>-the voice is not clear at all .- battrey has ...</td>\n",
       "    </tr>\n",
       "    <tr>\n",
       "      <th>2</th>\n",
       "      <td>B003RAE19Q</td>\n",
       "      <td>3.0</td>\n",
       "      <td>I was considering Livescribe a couple of years...</td>\n",
       "    </tr>\n",
       "    <tr>\n",
       "      <th>3</th>\n",
       "      <td>B003RAE19Q</td>\n",
       "      <td>1.0</td>\n",
       "      <td>I purchased my ECHO about a month ago and it h...</td>\n",
       "    </tr>\n",
       "    <tr>\n",
       "      <th>4</th>\n",
       "      <td>B003RAE19Q</td>\n",
       "      <td>3.0</td>\n",
       "      <td>I received my pen from Amazon earlier last mon...</td>\n",
       "    </tr>\n",
       "  </tbody>\n",
       "</table>\n",
       "</div>"
      ],
      "text/plain": [
       "   product.id  rating                                             review\n",
       "0  B003RAE19Q     4.0  I was skeptical that this pen would perform as...\n",
       "1  B003RAE19Q     1.0  -the voice is not clear at all .- battrey has ...\n",
       "2  B003RAE19Q     3.0  I was considering Livescribe a couple of years...\n",
       "3  B003RAE19Q     1.0  I purchased my ECHO about a month ago and it h...\n",
       "4  B003RAE19Q     3.0  I received my pen from Amazon earlier last mon..."
      ]
     },
     "execution_count": 28,
     "metadata": {},
     "output_type": "execute_result"
    }
   ],
   "source": [
    "low_price.head()"
   ]
  },
  {
   "cell_type": "code",
   "execution_count": null,
   "metadata": {},
   "outputs": [],
   "source": [
    "#save the dataframe for further investigation\n",
    "high_price.to_csv(r'C:\\Users\\xuebi\\Desktop\\high_product.csv')\n",
    "mid_price.to_csv(r'C:\\Users\\xuebi\\Desktop\\mid_price.csv')\n",
    "low_price.to_csv(r'C:\\Users\\xuebi\\Desktop\\low_price.csv')"
   ]
  },
  {
   "cell_type": "markdown",
   "metadata": {},
   "source": [
    "**Step 12:** Text Analysis using NLTK, clean the text data by removing stopwords, stemming, or lemmatization"
   ]
  },
  {
   "cell_type": "code",
   "execution_count": 33,
   "metadata": {},
   "outputs": [
    {
     "name": "stdout",
     "output_type": "stream",
     "text": [
      "Requirement already satisfied: nltk in c:\\anaconda_installation\\lib\\site-packages (3.4.4)\n",
      "Requirement already satisfied: six in c:\\anaconda_installation\\lib\\site-packages (from nltk) (1.12.0)\n"
     ]
    }
   ],
   "source": [
    "#install NLTK if you need to\n",
    "!pip install nltk"
   ]
  },
  {
   "cell_type": "code",
   "execution_count": 30,
   "metadata": {},
   "outputs": [
    {
     "name": "stderr",
     "output_type": "stream",
     "text": [
      "[nltk_data] Downloading package punkt to\n",
      "[nltk_data]     C:\\Users\\xuebi\\AppData\\Roaming\\nltk_data...\n",
      "[nltk_data]   Package punkt is already up-to-date!\n",
      "[nltk_data] Downloading package stopwords to\n",
      "[nltk_data]     C:\\Users\\xuebi\\AppData\\Roaming\\nltk_data...\n",
      "[nltk_data]   Package stopwords is already up-to-date!\n",
      "[nltk_data] Downloading package wordnet to\n",
      "[nltk_data]     C:\\Users\\xuebi\\AppData\\Roaming\\nltk_data...\n",
      "[nltk_data]   Package wordnet is already up-to-date!\n"
     ]
    },
    {
     "data": {
      "text/html": [
       "<div>\n",
       "<style scoped>\n",
       "    .dataframe tbody tr th:only-of-type {\n",
       "        vertical-align: middle;\n",
       "    }\n",
       "\n",
       "    .dataframe tbody tr th {\n",
       "        vertical-align: top;\n",
       "    }\n",
       "\n",
       "    .dataframe thead th {\n",
       "        text-align: right;\n",
       "    }\n",
       "</style>\n",
       "<table border=\"1\" class=\"dataframe\">\n",
       "  <thead>\n",
       "    <tr style=\"text-align: right;\">\n",
       "      <th></th>\n",
       "      <th>product.id</th>\n",
       "      <th>rating</th>\n",
       "      <th>review</th>\n",
       "      <th>tokenized_review</th>\n",
       "    </tr>\n",
       "  </thead>\n",
       "  <tbody>\n",
       "    <tr>\n",
       "      <th>0</th>\n",
       "      <td>B003RAE19Q</td>\n",
       "      <td>4.0</td>\n",
       "      <td>I was skeptical that this pen would perform as...</td>\n",
       "      <td>[I, was, skeptical, that, this, pen, would, pe...</td>\n",
       "    </tr>\n",
       "    <tr>\n",
       "      <th>1</th>\n",
       "      <td>B003RAE19Q</td>\n",
       "      <td>1.0</td>\n",
       "      <td>-the voice is not clear at all .- battrey has ...</td>\n",
       "      <td>[-the, voice, is, not, clear, at, all, .-, bat...</td>\n",
       "    </tr>\n",
       "    <tr>\n",
       "      <th>2</th>\n",
       "      <td>B003RAE19Q</td>\n",
       "      <td>3.0</td>\n",
       "      <td>I was considering Livescribe a couple of years...</td>\n",
       "      <td>[I, was, considering, Livescribe, a, couple, o...</td>\n",
       "    </tr>\n",
       "    <tr>\n",
       "      <th>3</th>\n",
       "      <td>B003RAE19Q</td>\n",
       "      <td>1.0</td>\n",
       "      <td>I purchased my ECHO about a month ago and it h...</td>\n",
       "      <td>[I, purchased, my, ECHO, about, a, month, ago,...</td>\n",
       "    </tr>\n",
       "    <tr>\n",
       "      <th>4</th>\n",
       "      <td>B003RAE19Q</td>\n",
       "      <td>3.0</td>\n",
       "      <td>I received my pen from Amazon earlier last mon...</td>\n",
       "      <td>[I, received, my, pen, from, Amazon, earlier, ...</td>\n",
       "    </tr>\n",
       "  </tbody>\n",
       "</table>\n",
       "</div>"
      ],
      "text/plain": [
       "   product.id  rating                                             review  \\\n",
       "0  B003RAE19Q     4.0  I was skeptical that this pen would perform as...   \n",
       "1  B003RAE19Q     1.0  -the voice is not clear at all .- battrey has ...   \n",
       "2  B003RAE19Q     3.0  I was considering Livescribe a couple of years...   \n",
       "3  B003RAE19Q     1.0  I purchased my ECHO about a month ago and it h...   \n",
       "4  B003RAE19Q     3.0  I received my pen from Amazon earlier last mon...   \n",
       "\n",
       "                                    tokenized_review  \n",
       "0  [I, was, skeptical, that, this, pen, would, pe...  \n",
       "1  [-the, voice, is, not, clear, at, all, .-, bat...  \n",
       "2  [I, was, considering, Livescribe, a, couple, o...  \n",
       "3  [I, purchased, my, ECHO, about, a, month, ago,...  \n",
       "4  [I, received, my, pen, from, Amazon, earlier, ...  "
      ]
     },
     "execution_count": 30,
     "metadata": {},
     "output_type": "execute_result"
    }
   ],
   "source": [
    "#import NLTK\n",
    "import nltk\n",
    "#download 'punkt', 'stopwords', and 'wordnet' if you need to\n",
    "nltk.download('punkt')\n",
    "nltk.download('stopwords')\n",
    "nltk.download('wordnet')\n",
    "#Word Tokenization: Word tokenizer breaks text paragraph into words.\n",
    "from nltk.tokenize import word_tokenize\n",
    "\n",
    "low_price['tokenized_review'] = low_price['review'].apply(word_tokenize)\n",
    "low_price.head()"
   ]
  },
  {
   "cell_type": "code",
   "execution_count": 31,
   "metadata": {
    "scrolled": false
   },
   "outputs": [
    {
     "name": "stdout",
     "output_type": "stream",
     "text": [
      "['skeptical', 'perform', 'well', 'ads', 'stated', 'gave', 'try', 'impressed', 'function', 'smartpen']\n"
     ]
    }
   ],
   "source": [
    "#remove stop words\n",
    "from nltk.corpus import stopwords\n",
    "\n",
    "stop_words = set(stopwords.words(\"english\"))\n",
    "#update the stop_words list to remove other words that you don't need\n",
    "stop_words.update(['pen', 'note', 'would', 'notebook', 'like', 'get', 'also'])\n",
    "\n",
    "cleaned_tokenized_review = []\n",
    "for review in low_price['tokenized_review']:\n",
    "    for word in review:\n",
    "        #convert all words to lower case\n",
    "        word = word.lower()\n",
    "        #remove stop_words and punctuation \n",
    "        if word not in stop_words and word.isalpha() == True:\n",
    "            cleaned_tokenized_review.append(word)\n",
    "            \n",
    "#print the the tokenized review without stop words\n",
    "print(cleaned_tokenized_review[:10])"
   ]
  },
  {
   "cell_type": "code",
   "execution_count": 32,
   "metadata": {},
   "outputs": [
    {
     "name": "stdout",
     "output_type": "stream",
     "text": [
      "['skeptic', 'perform', 'well', 'ad', 'state', 'gave', 'tri', 'impress', 'function', 'smartpen']\n"
     ]
    }
   ],
   "source": [
    "# Stemming: Stemming is a process of linguistic normalization, which reduces words to their word root word or chops off the derivational affixes. \n",
    "from nltk.stem import PorterStemmer\n",
    "\n",
    "ps = PorterStemmer()\n",
    "stemmed_tokenized_review=[]\n",
    "for word in cleaned_tokenized_review:\n",
    "    stemmed_tokenized_review.append(ps.stem(word))\n",
    "print(stemmed_tokenized_review[:10])"
   ]
  },
  {
   "cell_type": "code",
   "execution_count": 33,
   "metadata": {},
   "outputs": [
    {
     "name": "stdout",
     "output_type": "stream",
     "text": [
      "['skeptical', 'perform', 'well', 'ad', 'stated', 'gave', 'try', 'impressed', 'function', 'smartpen']\n"
     ]
    }
   ],
   "source": [
    "#Lemmatization: Lemmatization reduces words to their base word, which is linguistically correct lemmas.\n",
    "from nltk.stem.wordnet import WordNetLemmatizer\n",
    "\n",
    "lem = WordNetLemmatizer()\n",
    "lemmatized_tokenized_review=[]\n",
    "for word in cleaned_tokenized_review:\n",
    "    lemmatized_tokenized_review.append(lem.lemmatize(word))\n",
    "print(lemmatized_tokenized_review[:10])"
   ]
  },
  {
   "cell_type": "markdown",
   "metadata": {},
   "source": [
    "**Step 13:** Check the Frequency Distribution of each words in reviews"
   ]
  },
  {
   "cell_type": "code",
   "execution_count": 35,
   "metadata": {},
   "outputs": [
    {
     "data": {
      "image/png": "[encoded data removed]",
      "text/plain": [
       "<Figure size 432x288 with 1 Axes>"
      ]
     },
     "metadata": {
      "needs_background": "light"
     },
     "output_type": "display_data"
    },
    {
     "data": {
      "image/png": "[encoded data removed]",
      "text/plain": [
       "<Figure size 432x288 with 1 Axes>"
      ]
     },
     "metadata": {
      "needs_background": "light"
     },
     "output_type": "display_data"
    },
    {
     "data": {
      "image/png": "[encoded data removed]",
      "text/plain": [
       "<Figure size 432x288 with 1 Axes>"
      ]
     },
     "metadata": {
      "needs_background": "light"
     },
     "output_type": "display_data"
    }
   ],
   "source": [
    "import matplotlib.pyplot as plt\n",
    "from nltk.probability import FreqDist\n",
    "\n",
    "fdist_stemmed_review = FreqDist(stemmed_tokenized_review)\n",
    "fdist_lemmatized_review = FreqDist(lemmatized_tokenized_review)\n",
    "\n",
    "plt.title(\"Frequency Distribution for Stemmed Review\")\n",
    "dist_stemmed = fdist_stemmed_review.plot(30,cumulative=False)\n",
    "\n",
    "plt.title(\"Frequency Distribution for Lemmatized Review\")\n",
    "fdist_lemmatized_review.plot(30,cumulative=False)\n",
    "plt.axis('off')\n",
    "plt.show()"
   ]
  },
  {
   "cell_type": "code",
   "execution_count": null,
   "metadata": {},
   "outputs": [],
   "source": [
    "#install wordcloud if you need to\n",
    "!pip install wordcloud "
   ]
  },
  {
   "cell_type": "code",
   "execution_count": 36,
   "metadata": {},
   "outputs": [
    {
     "data": {
      "image/png": "[encoded data removed]",
      "text/plain": [
       "<Figure size 432x288 with 1 Axes>"
      ]
     },
     "metadata": {
      "needs_background": "light"
     },
     "output_type": "display_data"
    }
   ],
   "source": [
    "#build word cloud to highlight the most frequent words\n",
    "from wordcloud import WordCloud\n",
    "\n",
    "#build a bag of words for would cloud\n",
    "stemmed_words_bag = ' '.join(stemmed_tokenized_review)\n",
    "\n",
    "stemmed_wordcloud = WordCloud(max_font_size=50, max_words=100, background_color=\"white\").generate(stemmed_words_bag)\n",
    "plt.figure()\n",
    "plt.imshow(stemmed_wordcloud, interpolation=\"bilinear\")\n",
    "plt.axis(\"off\")\n",
    "\n",
    "plt.show()"
   ]
  },
  {
   "cell_type": "code",
   "execution_count": 37,
   "metadata": {},
   "outputs": [
    {
     "data": {
      "image/png": "[encoded data removed]",
      "text/plain": [
       "<Figure size 432x288 with 1 Axes>"
      ]
     },
     "metadata": {
      "needs_background": "light"
     },
     "output_type": "display_data"
    }
   ],
   "source": [
    "#build a bag of words for would cloud\n",
    "lemmatized_words_bag = ' '.join(lemmatized_tokenized_review)\n",
    "\n",
    "lemmatized_wordcloud = WordCloud(max_font_size=50, max_words=100, background_color=\"white\").generate(lemmatized_words_bag)\n",
    "plt.figure()\n",
    "plt.imshow(lemmatized_wordcloud, interpolation=\"bilinear\")\n",
    "plt.axis(\"off\")\n",
    "\n",
    "plt.show()"
   ]
  },
  {
   "cell_type": "markdown",
   "metadata": {},
   "source": [
    "**Step 14:** Sentiment Analysis: Develop a classification model, which is trained using the pre-labeled dataset of positive, \n",
    "negative, and neutral. I will use Multi-Nomial Naive Bayes Classification with scikit-learn."
   ]
  },
  {
   "cell_type": "code",
   "execution_count": 38,
   "metadata": {},
   "outputs": [
    {
     "data": {
      "text/html": [
       "<div>\n",
       "<style scoped>\n",
       "    .dataframe tbody tr th:only-of-type {\n",
       "        vertical-align: middle;\n",
       "    }\n",
       "\n",
       "    .dataframe tbody tr th {\n",
       "        vertical-align: top;\n",
       "    }\n",
       "\n",
       "    .dataframe thead th {\n",
       "        text-align: right;\n",
       "    }\n",
       "</style>\n",
       "<table border=\"1\" class=\"dataframe\">\n",
       "  <thead>\n",
       "    <tr style=\"text-align: right;\">\n",
       "      <th></th>\n",
       "      <th>PhraseId</th>\n",
       "      <th>SentenceId</th>\n",
       "      <th>Phrase</th>\n",
       "      <th>Sentiment</th>\n",
       "    </tr>\n",
       "  </thead>\n",
       "  <tbody>\n",
       "    <tr>\n",
       "      <th>0</th>\n",
       "      <td>1</td>\n",
       "      <td>1</td>\n",
       "      <td>A series of escapades demonstrating the adage ...</td>\n",
       "      <td>1</td>\n",
       "    </tr>\n",
       "    <tr>\n",
       "      <th>1</th>\n",
       "      <td>2</td>\n",
       "      <td>1</td>\n",
       "      <td>A series of escapades demonstrating the adage ...</td>\n",
       "      <td>2</td>\n",
       "    </tr>\n",
       "    <tr>\n",
       "      <th>2</th>\n",
       "      <td>3</td>\n",
       "      <td>1</td>\n",
       "      <td>A series</td>\n",
       "      <td>2</td>\n",
       "    </tr>\n",
       "    <tr>\n",
       "      <th>3</th>\n",
       "      <td>4</td>\n",
       "      <td>1</td>\n",
       "      <td>A</td>\n",
       "      <td>2</td>\n",
       "    </tr>\n",
       "    <tr>\n",
       "      <th>4</th>\n",
       "      <td>5</td>\n",
       "      <td>1</td>\n",
       "      <td>series</td>\n",
       "      <td>2</td>\n",
       "    </tr>\n",
       "  </tbody>\n",
       "</table>\n",
       "</div>"
      ],
      "text/plain": [
       "   PhraseId  SentenceId                                             Phrase  \\\n",
       "0         1           1  A series of escapades demonstrating the adage ...   \n",
       "1         2           1  A series of escapades demonstrating the adage ...   \n",
       "2         3           1                                           A series   \n",
       "3         4           1                                                  A   \n",
       "4         5           1                                             series   \n",
       "\n",
       "   Sentiment  \n",
       "0          1  \n",
       "1          2  \n",
       "2          2  \n",
       "3          2  \n",
       "4          2  "
      ]
     },
     "execution_count": 38,
     "metadata": {},
     "output_type": "execute_result"
    }
   ],
   "source": [
    "#We use the training dataset from Kaggle to build our prediction model\n",
    "#you can download this data from https://www.kaggle.com/c/sentiment-analysis-on-movie-reviews/data\n",
    "#this dataset is about Movie Reviews and I believe the sentiment regarding a movie review should be similar to the sentiment regarding a product\n",
    "\n",
    "movie = pd.read_csv('train data of movie reviews.tsv', sep = '\\t')\n",
    "movie.head()"
   ]
  },
  {
   "cell_type": "code",
   "execution_count": 39,
   "metadata": {},
   "outputs": [
    {
     "data": {
      "image/png": "[encoded data removed]",
      "text/plain": [
       "<Figure size 360x360 with 1 Axes>"
      ]
     },
     "metadata": {
      "needs_background": "light"
     },
     "output_type": "display_data"
    }
   ],
   "source": [
    "#check the distribution of the review sentiments\n",
    "import seaborn as sns\n",
    "\n",
    "sns.catplot(x = \"Sentiment\", data = movie, kind = \"count\")\n",
    "plt.show()"
   ]
  },
  {
   "cell_type": "code",
   "execution_count": 40,
   "metadata": {},
   "outputs": [],
   "source": [
    "from sklearn.feature_extraction.text import CountVectorizer\n",
    "from nltk.tokenize import RegexpTokenizer\n",
    "from sklearn.naive_bayes import MultinomialNB\n",
    "\n",
    "#build a Tokenizer to clean the text data\n",
    "Tokenizer = RegexpTokenizer(r'[a-zA-Z0-9]+')\n",
    "\n",
    "#build a Vectorizer that help vectorized our cleaned text data\n",
    "#note that we specify max_features to eliminate the potential issues of dimension mismatch in prediction part\n",
    "Vectorizer = CountVectorizer(lowercase = True, #lower case all the words\n",
    "                             stop_words = stop_words, #remove english stop_words and the updated words we specified before\n",
    "                             ngram_range = (1,1), #specify the lower and upper boundary of the range of n-values for different word n-grams or char n-grams to be extracted\n",
    "                             tokenizer = Tokenizer.tokenize, #specify the tokenizer we used to tokenize the word\n",
    "                             max_features = 1000)\n",
    "\n",
    "X_train = Vectorizer.fit_transform(movie['Phrase']) #build the train variable for the model\n",
    "y_train = movie['Sentiment'] #build the target variable using the Sentiment in the movie dataset\n",
    "\n",
    "Trained_NB_classifier = MultinomialNB().fit(X_train, y_train) #build the Naive Bayes classifier for prediction"
   ]
  },
  {
   "cell_type": "markdown",
   "metadata": {},
   "source": [
    "**Step 15:** Sentiment Prediction: Use the Naive Bayes classifier we built above to predict the sentiment of each review"
   ]
  },
  {
   "cell_type": "code",
   "execution_count": 41,
   "metadata": {},
   "outputs": [],
   "source": [
    "#sentiment prediction\n",
    "X_test = Vectorizer.transform(low_price['review']) #Tokenize and Vectorize our X_test for sentiment prediction\n",
    "#note that we need to use transform instead of fit_transform, because we want to transform documents to document-term matrix, but we don't want to fit these documents according to our train dataset.\n",
    "#more explanation could be found here https://stackoverflow.com/questions/38692520/what-is-the-difference-between-fit-transform-and-transform-in-sklearn-countvecto\n",
    "low_price['predicted_sentiment'] = Trained_NB_classifier.predict(X_test)"
   ]
  },
  {
   "cell_type": "code",
   "execution_count": 42,
   "metadata": {
    "scrolled": true
   },
   "outputs": [
    {
     "data": {
      "text/html": [
       "<div>\n",
       "<style scoped>\n",
       "    .dataframe tbody tr th:only-of-type {\n",
       "        vertical-align: middle;\n",
       "    }\n",
       "\n",
       "    .dataframe tbody tr th {\n",
       "        vertical-align: top;\n",
       "    }\n",
       "\n",
       "    .dataframe thead th {\n",
       "        text-align: right;\n",
       "    }\n",
       "</style>\n",
       "<table border=\"1\" class=\"dataframe\">\n",
       "  <thead>\n",
       "    <tr style=\"text-align: right;\">\n",
       "      <th></th>\n",
       "      <th>product.id</th>\n",
       "      <th>rating</th>\n",
       "      <th>review</th>\n",
       "      <th>tokenized_review</th>\n",
       "      <th>predicted_sentiment</th>\n",
       "    </tr>\n",
       "  </thead>\n",
       "  <tbody>\n",
       "    <tr>\n",
       "      <th>0</th>\n",
       "      <td>B003RAE19Q</td>\n",
       "      <td>4.0</td>\n",
       "      <td>I was skeptical that this pen would perform as...</td>\n",
       "      <td>[I, was, skeptical, that, this, pen, would, pe...</td>\n",
       "      <td>3</td>\n",
       "    </tr>\n",
       "    <tr>\n",
       "      <th>1</th>\n",
       "      <td>B003RAE19Q</td>\n",
       "      <td>1.0</td>\n",
       "      <td>-the voice is not clear at all .- battrey has ...</td>\n",
       "      <td>[-the, voice, is, not, clear, at, all, .-, bat...</td>\n",
       "      <td>2</td>\n",
       "    </tr>\n",
       "    <tr>\n",
       "      <th>2</th>\n",
       "      <td>B003RAE19Q</td>\n",
       "      <td>3.0</td>\n",
       "      <td>I was considering Livescribe a couple of years...</td>\n",
       "      <td>[I, was, considering, Livescribe, a, couple, o...</td>\n",
       "      <td>2</td>\n",
       "    </tr>\n",
       "    <tr>\n",
       "      <th>3</th>\n",
       "      <td>B003RAE19Q</td>\n",
       "      <td>1.0</td>\n",
       "      <td>I purchased my ECHO about a month ago and it h...</td>\n",
       "      <td>[I, purchased, my, ECHO, about, a, month, ago,...</td>\n",
       "      <td>0</td>\n",
       "    </tr>\n",
       "    <tr>\n",
       "      <th>4</th>\n",
       "      <td>B003RAE19Q</td>\n",
       "      <td>3.0</td>\n",
       "      <td>I received my pen from Amazon earlier last mon...</td>\n",
       "      <td>[I, received, my, pen, from, Amazon, earlier, ...</td>\n",
       "      <td>2</td>\n",
       "    </tr>\n",
       "  </tbody>\n",
       "</table>\n",
       "</div>"
      ],
      "text/plain": [
       "   product.id  rating                                             review  \\\n",
       "0  B003RAE19Q     4.0  I was skeptical that this pen would perform as...   \n",
       "1  B003RAE19Q     1.0  -the voice is not clear at all .- battrey has ...   \n",
       "2  B003RAE19Q     3.0  I was considering Livescribe a couple of years...   \n",
       "3  B003RAE19Q     1.0  I purchased my ECHO about a month ago and it h...   \n",
       "4  B003RAE19Q     3.0  I received my pen from Amazon earlier last mon...   \n",
       "\n",
       "                                    tokenized_review  predicted_sentiment  \n",
       "0  [I, was, skeptical, that, this, pen, would, pe...                    3  \n",
       "1  [-the, voice, is, not, clear, at, all, .-, bat...                    2  \n",
       "2  [I, was, considering, Livescribe, a, couple, o...                    2  \n",
       "3  [I, purchased, my, ECHO, about, a, month, ago,...                    0  \n",
       "4  [I, received, my, pen, from, Amazon, earlier, ...                    2  "
      ]
     },
     "execution_count": 42,
     "metadata": {},
     "output_type": "execute_result"
    }
   ],
   "source": [
    "#check the head of the updated dataset\n",
    "low_price.head()"
   ]
  },
  {
   "cell_type": "code",
   "execution_count": 43,
   "metadata": {
    "scrolled": true
   },
   "outputs": [
    {
     "data": {
      "image/png": "[encoded data removed]",
      "text/plain": [
       "<Figure size 360x360 with 1 Axes>"
      ]
     },
     "metadata": {
      "needs_background": "light"
     },
     "output_type": "display_data"
    }
   ],
   "source": [
    "#check the sentiment distribution of the reviews for low-price smart pen\n",
    "#we can see that the majority of the customers are satisfied\n",
    "sns.catplot(x=\"predicted_sentiment\", data=low_price, kind=\"count\")\n",
    "plt.show()"
   ]
  },
  {
   "cell_type": "markdown",
   "metadata": {},
   "source": [
    "**Furthermore** I only picked the competitor in the lower price range to do the sentiment analysis. It seems that most of the customers are satisfied and they care about the Livescribe paper-based computing platform and the smartpen could be applied in their workplace.\n",
    "\n",
    "If we want to explore more sentiment analysis for the competitor in the middle price range or that in the higher price range, we can slightly change the code to do that. Besides, we can also combine all the reviews for Smartpen products to do a market sentiment analysis.\n",
    "\n",
    "If you are interested in other products like iPhone, Dell XPS, or even Markers, you can just change the keyword and apply the functions that I developed above. I hope you enjoy your journey of market research."
   ]
  }
 ],
 "metadata": {
  "kernelspec": {
   "display_name": "Python 3",
   "language": "python",
   "name": "python3"
  },
  "language_info": {
   "codemirror_mode": {
    "name": "ipython",
    "version": 3
   },
   "file_extension": ".py",
   "mimetype": "text/x-python",
   "name": "python",
   "nbconvert_exporter": "python",
   "pygments_lexer": "ipython3",
   "version": "3.7.3"
  }
 },
 "nbformat": 4,
 "nbformat_minor": 4
}
